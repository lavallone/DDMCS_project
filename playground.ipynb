{
 "cells": [
  {
   "cell_type": "code",
   "execution_count": 16,
   "metadata": {},
   "outputs": [],
   "source": [
    "from datasets import load_dataset\n",
    "\n",
    "emotion_dataset = load_dataset(\"cardiffnlp/super_tweeteval\", \"tweet_emotion\")\n",
    "sentiment_dataset = load_dataset(\"cardiffnlp/super_tweeteval\", \"tweet_sentiment\")"
   ]
  },
  {
   "cell_type": "code",
   "execution_count": 23,
   "metadata": {},
   "outputs": [
    {
     "name": "stdout",
     "output_type": "stream",
     "text": [
      "People you need to look up the definition of protest. What you are doing is not protesting is called vandalism. #angry #stop\n",
      "['anger', 'disgust', 'sadness']\n",
      "@user Look at those teef! #growl\n",
      "['anger', 'disgust', 'fear']\n",
      "Star trek online has a update to download oh fuming yay\n",
      "['anger', 'disgust', 'joy', 'sadness']\n",
      "The bitter the battle, the sweeter the victory...\n",
      "['joy', 'optimism']\n",
      "i cant stop. i finished - dejected. luckily no one is in the bathroom. so i go to a stall and wait until my pants are dry.\n",
      "['anger', 'disgust', 'sadness']\n"
     ]
    }
   ],
   "source": [
    "# EMOTION\n",
    "\n",
    "label2emotion = {0 : \"anger\", 1 : \"anticipation\", 2 : \"disgust\", 3 : \"fear\", \n",
    "                 4 : \"joy\", 5 : \"love\", 6 : \"optimism\", 7 : \"pessimism\", 8 : \"sadness\", 9 : \"surprise\", 10 : \"trust\"}\n",
    "\n",
    "def manipulate_emotion_labels(label):\n",
    "    ris = []\n",
    "    for i,e in enumerate(label):\n",
    "        if e == 1:\n",
    "            ris.append(label2emotion[i])\n",
    "    return ris\n",
    "\n",
    "emotion_train_dataset = emotion_dataset['train']\n",
    "emotion_test_dataset = emotion_dataset['test']\n",
    "emotion_validation_dataset = emotion_dataset['validation']\n",
    "\n",
    "emotion_train_texts = emotion_train_dataset['text']\n",
    "emotion_train_labels = emotion_train_dataset['gold_label_list']\n",
    "\n",
    "for i in range(15,20):\n",
    "    print(emotion_train_texts[i])\n",
    "    print(manipulate_emotion_labels(emotion_train_labels[i]))\n"
   ]
  },
  {
   "cell_type": "code",
   "execution_count": 27,
   "metadata": {},
   "outputs": [
    {
     "name": "stdout",
     "output_type": "stream",
     "text": [
      "DatasetDict({\n",
      "    train: Dataset({\n",
      "        features: ['gold_label', 'text', 'target'],\n",
      "        num_rows: 26632\n",
      "    })\n",
      "    test: Dataset({\n",
      "        features: ['gold_label', 'text', 'target'],\n",
      "        num_rows: 12379\n",
      "    })\n",
      "    validation: Dataset({\n",
      "        features: ['gold_label', 'text', 'target'],\n",
      "        num_rows: 4000\n",
      "    })\n",
      "})\n",
      "[\"dear @Microsoft the newOoffice for Mac is great and all, but no Lync update? C'mon.\", \"@Microsoft how about you make a system that doesn't eat my friggin discs. This is the 2nd time this has happened and I am so sick of it!\", \"I may be ignorant on this issue but... should we celebrate @user parental leave changes? Doesn't the gender divide suggest... (1/2)\", 'Thanks to @user I just may be switching over to @user', 'If I make a game as a #windows10 Universal App. Will #xboxone owners be able to download and play it in November? @majornelson @Microsoft']\n",
      "[1, 0, 1, 1, 2]\n",
      "['@microsoft', '@microsoft', '@microsoft', '@microsoft', '@microsoft']\n"
     ]
    }
   ],
   "source": [
    "print(sentiment_dataset)\n",
    "sentiment_train_dataset = sentiment_dataset['train']\n",
    "sentiment_test_dataset = sentiment_dataset['test']\n",
    "sentiment_validation_dataset = sentiment_dataset['validation']\n",
    "\n",
    "sentiment_train_texts = sentiment_train_dataset['text']\n",
    "sentiment_train_labels = sentiment_train_dataset['gold_label']\n",
    "#sentiment_train_targets = sentiment_train_dataset['target']\n",
    "\n",
    "print(sentiment_train_texts[:5])\n",
    "print(sentiment_train_labels[:5])\n",
    "#print(sentiment_train_targets[:5])\n"
   ]
  },
  {
   "cell_type": "code",
   "execution_count": 31,
   "metadata": {},
   "outputs": [
    {
     "name": "stderr",
     "output_type": "stream",
     "text": [
      "100%|██████████| 6838/6838 [00:00<00:00, 517860.19it/s]\n"
     ]
    }
   ],
   "source": [
    "import json\n",
    "from tqdm import tqdm\n",
    "\n",
    "sentiment_prompt = \"\"\"What is the sentiment of this text? \\nText: {text} \\nOptions: [ \"strongly negative\", \"negative\", \"negative or neutral\", \"positive\", \"strongly positive\"] \\nAnswer: {answer}\"\"\"\n",
    "emotion_prompt = \"\"\"Which emotions from the options below are expressed in the following text? \\nText: {text} \\nOptions: [ \"anger\", \"anticipation\", \"disgust\", \"fear\", \"joy\", \"love\", \"optimism\", \"pessimism\", \"sadness\", \"surprise\", \"trust\" ] \\nAnswer: {answer}\"\"\"\n",
    "\n",
    "label2emotion = {0 : \"anger\", 1 : \"anticipation\", 2 : \"disgust\", 3 : \"fear\", \n",
    "                 4 : \"joy\", 5 : \"love\", 6 : \"optimism\", 7 : \"pessimism\", 8 : \"sadness\", 9 : \"surprise\", 10 : \"trust\"}\n",
    "label2sentiment = {0 : \"strongly negative\", 1 : \"negative\", 2 : \"negative or neutral\", 3 : \"positive\", 4 : \"strongly positive\"}\n",
    "\n",
    "def manipulate_emotion_labels(label):\n",
    "    ris = []\n",
    "    for i,e in enumerate(label):\n",
    "        if e == 1:\n",
    "            ris.append(label2emotion[i])\n",
    "    return \", \".join(ris)\n",
    "\n",
    "\n",
    "def generate_finetuning_dataset(dataset_type, texts, labels):\n",
    "\n",
    "    json_data = []\n",
    "    with open(f\"training_{dataset_type}.json\", \"w\") as fw_json:\n",
    "        for instance_data, instance_gold in tqdm(zip(texts, labels), total=len(labels)):\n",
    "            if dataset_type==\"emotion\":\n",
    "                answer = manipulate_emotion_labels(instance_gold)\n",
    "            else:\n",
    "                answer = label2sentiment[instance_gold]\n",
    "            \n",
    "            prompt_template = emotion_prompt if dataset_type==\"emotion\" else sentiment_prompt\n",
    "            prompt = prompt_template.format(\n",
    "                    text=instance_data,\n",
    "                    answer=answer)\n",
    "            json_elem = {\"prompt\":prompt}\n",
    "            json_data.append(json_elem)\n",
    "        json.dump(json_data, fw_json, indent=4)\n",
    "        \n",
    "generate_finetuning_dataset(\"emotion\", emotion_train_texts, emotion_train_labels)"
   ]
  }
 ],
 "metadata": {
  "kernelspec": {
   "display_name": "sappia",
   "language": "python",
   "name": "python3"
  },
  "language_info": {
   "codemirror_mode": {
    "name": "ipython",
    "version": 3
   },
   "file_extension": ".py",
   "mimetype": "text/x-python",
   "name": "python",
   "nbconvert_exporter": "python",
   "pygments_lexer": "ipython3",
   "version": "3.9.19"
  }
 },
 "nbformat": 4,
 "nbformat_minor": 2
}
